{
 "cells": [
  {
   "cell_type": "code",
   "execution_count": 87,
   "metadata": {},
   "outputs": [],
   "source": [
    "import numpy as np\n",
    "import pandas as pd"
   ]
  },
  {
   "cell_type": "code",
   "execution_count": 88,
   "metadata": {},
   "outputs": [],
   "source": [
    "class DataHandler:\n",
    "    def __init__(self):\n",
    "        print(\"intialisation\")\n",
    "        self.df_lf = None\n",
    "        self.df_pa = None\n",
    "        self.df_res = None\n",
    "        print(\"intialisation done\")\n",
    "    def get_data(self):\n",
    "        print(\"loading data from bucket\")\n",
    "        self.df_lf = pd.read_csv(\"https://storage.googleapis.com/h3-data/listings_final.csv\",sep=';')\n",
    "        self.df_pa = pd.read_csv(\"https://storage.googleapis.com/h3-data/price_availability.csv\",sep=';')\n",
    "        print(\"data loaded from bucket\")\n",
    "\n",
    "    def group_data(self):\n",
    "        print(\"merging data\")\n",
    "        self.df_res = pd.merge(self.df_lf,self.df_pa.groupby('listing_id')['local_price'].mean('local_price'),how='inner', on='listing_id')\n",
    "        print(\"size of the merged data : {} lines, {} columns\".format(self.df_res.shape[0],self.df_res.shape[1]))\n",
    "\n",
    "    def get_process_data(self):\n",
    "        self.get_data()\n",
    "        self.group_data()"
   ]
  },
  {
   "cell_type": "code",
   "execution_count": 89,
   "metadata": {},
   "outputs": [
    {
     "output_type": "stream",
     "name": "stdout",
     "text": [
      "intialisation\nintialisation done\n"
     ]
    }
   ],
   "source": [
    "dt = DataHandler()"
   ]
  },
  {
   "cell_type": "code",
   "execution_count": 90,
   "metadata": {},
   "outputs": [
    {
     "output_type": "stream",
     "name": "stdout",
     "text": [
      "loading data from bucket\n",
      "data loaded from bucket\n",
      "merging data\n",
      "size of the merged data : 999 lines, 20 columns\n"
     ]
    }
   ],
   "source": [
    "dt.get_process_data()"
   ]
  },
  {
   "cell_type": "code",
   "execution_count": 91,
   "metadata": {},
   "outputs": [],
   "source": [
    "class FeatureRecipe:\n",
    "\n",
    "    def __init__(self,df:pd.DataFrame):\n",
    "        print(\"FeatureRecipe intialisation\")\n",
    "        self.df = df\n",
    "        self.cate = []\n",
    "        self.floa = []\n",
    "        self.intt = []\n",
    "        self.drop = []\n",
    "        print(\"end of intialisation\\n\")\n",
    "\n",
    "    def separate_variable_types(self) -> None:\n",
    "        print(\"separating columns\")\n",
    "        for col in self.df.columns:\n",
    "            if self.df[col].dtypes == int:\n",
    "                self.intt.append(self.df[col])\n",
    "            elif self.df[col].dtypes == float:\n",
    "                self.floa.append(self.df[col])\n",
    "            else:\n",
    "                self.cate.append(self.df[col])\n",
    "        print (\"dataset column size : {} \\nnumber of discreet values : {} \\nnumber of continuous values : {} \\nnumber of others : {} \\ntaille total : {}\".format(len(self.df.columns),len(self.intt),len(self.floa),len(self.cate),len(self.intt)+len(self.floa)+len(self.cate) ))\n",
    "\n",
    "    def drop_na_prct(self,threshold : float):\n",
    "        \"\"\"\n",
    "            on appelle la commande et on met un threshold entre 1 et 0 en flottant\n",
    "            params: threshold : float\n",
    "        \"\"\"\n",
    "        # par rapport a la colonne\n",
    "        dropped = 0\n",
    "        print(\"dropping columns with {} percentage \".format(threshold))\n",
    "        for col in self.df.columns:\n",
    "            if self.df[col].isna().sum()/self.df.shape[0] >= threshold:\n",
    "                self.drop.append( self.df.drop([col], axis='columns', inplace=True) )\n",
    "                dropped+=1\n",
    "        print(\"dropped {} columns\".format(dropped))\n",
    "\n",
    "    def drop_useless_features(self):\n",
    "        # droper les col vides et doublons de l'index et les colonnes qu'on va considerer inutile\n",
    "        print(\"dropping useless columns\")\n",
    "        dropped = 0\n",
    "        if 'Unnamed: 0' in self.df.columns:\n",
    "            self.df.drop(['Unnamed: 0'], axis='columns', inplace=True)\n",
    "            dropped+=1\n",
    "        for col in self.df.columns:\n",
    "            if self.df[col].isna().sum() == len(self.df):\n",
    "                self.df.drop([col], axis='columns', inplace=True)\n",
    "                dropped+=1\n",
    "        print(\"done dropping {} column(s)\".format(dropped))\n",
    "\n",
    "\n",
    "    def drop_duplicate(self):\n",
    "        # comparer les colonnes et voir si elles sont dupliquées\n",
    "        print(\"dropping duplicated rows\")\n",
    "        self.df.drop_duplicates(inplace=True)\n",
    "        duplicates = self.get_duplicates()\n",
    "        for col in duplicates:\n",
    "            print(\"dropping column :{}\".format(col))\n",
    "            self.df.drop([col], axis='columns', inplace=True)\n",
    "        print(\"duplicated rows dropped\")\n",
    "\n",
    "    def get_duplicates(self):\n",
    "        duplicates = []\n",
    "        #for col in self.df.columns:\n",
    "            #for scol in self.df.columns:\n",
    "        for col in range(self.df.shape[1]):\n",
    "            for scol in range(col+1,self.df.shape[1]):\n",
    "                if self.df.iloc[:,col].equals(self.df.iloc[:,scol]):\n",
    "                    duplicates.append(self.df.iloc[:,scol].name)\n",
    "        return duplicates\n",
    "\n",
    "#   def deal_date_time(self):\n",
    "#        pass\n",
    "    def get_process_data(self,threshold : float):\n",
    "        self.separate_variable_types()\n",
    "        self.drop_useless_features()\n",
    "        self.drop_na_prct(threshold)\n",
    "        self.drop_duplicate()\n",
    "        print(\"end of FeatureRecipe processing\")"
   ]
  },
  {
   "cell_type": "code",
   "execution_count": 92,
   "metadata": {},
   "outputs": [
    {
     "output_type": "stream",
     "name": "stdout",
     "text": [
      "FeatureRecipe intialisation\nend of intialisation\n\nseparating columns\ndataset column size : 20 \nnumber of discreet values : 5 \nnumber of continuous values : 6 \nnumber of others : 9 \ntaille total : 20\ndropping useless columns\ndone dropping 1 column(s)\ndropping columns with 0.3 percentage \ndropped 0 columns\ndropping duplicated rows\ndropping column :is_business_travel_ready\nduplicated rows dropped\nend of FeatureRecipe processing\n"
     ]
    }
   ],
   "source": [
    "fr = FeatureRecipe(dt.df_res)\n",
    "fr.get_process_data(0.3)"
   ]
  },
  {
   "cell_type": "code",
   "execution_count": 93,
   "metadata": {},
   "outputs": [
    {
     "output_type": "execute_result",
     "data": {
      "text/plain": [
       "   listing_id                                      name          type   city  \\\n",
       "0    28581061                           La maison Clery  private_room  Paris   \n",
       "1      661961       studio PARIS PLACE EDITH PIAF 75020   entire_home  Paris   \n",
       "2     1261705  chambre privée à louer @ paris oberkampf  private_room  Paris   \n",
       "3     1318834            Appartement au coeur du Marais   entire_home  Paris   \n",
       "4     1677091                       Lovely & Quiet flat   entire_home  Paris   \n",
       "\n",
       "                   neighborhood   latitude  longitude  person_capacity  beds  \\\n",
       "0             2e arrondissement  48.869292   2.348335                1     1   \n",
       "1                           NaN  48.867284   2.403255                2     1   \n",
       "2                           NaN  48.867894   2.375897                1     1   \n",
       "3                    République  48.870370   2.358510                3     2   \n",
       "4  Buttes-Chaumont - Belleville  48.874149   2.373700                2     1   \n",
       "\n",
       "   bedrooms  bathrooms  is_rebookable  is_new_listing  is_fully_refundable  \\\n",
       "0         1        2.0          False            True                 True   \n",
       "1         1        1.0          False           False                 True   \n",
       "2         1        1.0          False           False                 True   \n",
       "3         2        1.0          False           False                 True   \n",
       "4         1        1.0          False           False                 True   \n",
       "\n",
       "   is_host_highly_rated  pricing_weekly_factor  pricing_monthly_factor  \\\n",
       "0                 False                   1.00                    1.00   \n",
       "1                  True                   0.88                    0.69   \n",
       "2                  True                   1.00                    1.00   \n",
       "3                 False                   0.82                    0.48   \n",
       "4                  True                   0.95                    0.90   \n",
       "\n",
       "   local_price  \n",
       "0    45.948454  \n",
       "1    44.473684  \n",
       "2    49.000000  \n",
       "3   165.000000  \n",
       "4    69.774436  "
      ],
      "text/html": "<div>\n<style scoped>\n    .dataframe tbody tr th:only-of-type {\n        vertical-align: middle;\n    }\n\n    .dataframe tbody tr th {\n        vertical-align: top;\n    }\n\n    .dataframe thead th {\n        text-align: right;\n    }\n</style>\n<table border=\"1\" class=\"dataframe\">\n  <thead>\n    <tr style=\"text-align: right;\">\n      <th></th>\n      <th>listing_id</th>\n      <th>name</th>\n      <th>type</th>\n      <th>city</th>\n      <th>neighborhood</th>\n      <th>latitude</th>\n      <th>longitude</th>\n      <th>person_capacity</th>\n      <th>beds</th>\n      <th>bedrooms</th>\n      <th>bathrooms</th>\n      <th>is_rebookable</th>\n      <th>is_new_listing</th>\n      <th>is_fully_refundable</th>\n      <th>is_host_highly_rated</th>\n      <th>pricing_weekly_factor</th>\n      <th>pricing_monthly_factor</th>\n      <th>local_price</th>\n    </tr>\n  </thead>\n  <tbody>\n    <tr>\n      <th>0</th>\n      <td>28581061</td>\n      <td>La maison Clery</td>\n      <td>private_room</td>\n      <td>Paris</td>\n      <td>2e arrondissement</td>\n      <td>48.869292</td>\n      <td>2.348335</td>\n      <td>1</td>\n      <td>1</td>\n      <td>1</td>\n      <td>2.0</td>\n      <td>False</td>\n      <td>True</td>\n      <td>True</td>\n      <td>False</td>\n      <td>1.00</td>\n      <td>1.00</td>\n      <td>45.948454</td>\n    </tr>\n    <tr>\n      <th>1</th>\n      <td>661961</td>\n      <td>studio PARIS PLACE EDITH PIAF 75020</td>\n      <td>entire_home</td>\n      <td>Paris</td>\n      <td>NaN</td>\n      <td>48.867284</td>\n      <td>2.403255</td>\n      <td>2</td>\n      <td>1</td>\n      <td>1</td>\n      <td>1.0</td>\n      <td>False</td>\n      <td>False</td>\n      <td>True</td>\n      <td>True</td>\n      <td>0.88</td>\n      <td>0.69</td>\n      <td>44.473684</td>\n    </tr>\n    <tr>\n      <th>2</th>\n      <td>1261705</td>\n      <td>chambre privée à louer @ paris oberkampf</td>\n      <td>private_room</td>\n      <td>Paris</td>\n      <td>NaN</td>\n      <td>48.867894</td>\n      <td>2.375897</td>\n      <td>1</td>\n      <td>1</td>\n      <td>1</td>\n      <td>1.0</td>\n      <td>False</td>\n      <td>False</td>\n      <td>True</td>\n      <td>True</td>\n      <td>1.00</td>\n      <td>1.00</td>\n      <td>49.000000</td>\n    </tr>\n    <tr>\n      <th>3</th>\n      <td>1318834</td>\n      <td>Appartement au coeur du Marais</td>\n      <td>entire_home</td>\n      <td>Paris</td>\n      <td>République</td>\n      <td>48.870370</td>\n      <td>2.358510</td>\n      <td>3</td>\n      <td>2</td>\n      <td>2</td>\n      <td>1.0</td>\n      <td>False</td>\n      <td>False</td>\n      <td>True</td>\n      <td>False</td>\n      <td>0.82</td>\n      <td>0.48</td>\n      <td>165.000000</td>\n    </tr>\n    <tr>\n      <th>4</th>\n      <td>1677091</td>\n      <td>Lovely &amp; Quiet flat</td>\n      <td>entire_home</td>\n      <td>Paris</td>\n      <td>Buttes-Chaumont - Belleville</td>\n      <td>48.874149</td>\n      <td>2.373700</td>\n      <td>2</td>\n      <td>1</td>\n      <td>1</td>\n      <td>1.0</td>\n      <td>False</td>\n      <td>False</td>\n      <td>True</td>\n      <td>True</td>\n      <td>0.95</td>\n      <td>0.90</td>\n      <td>69.774436</td>\n    </tr>\n  </tbody>\n</table>\n</div>"
     },
     "metadata": {},
     "execution_count": 93
    }
   ],
   "source": [
    "fr.df.head()"
   ]
  },
  {
   "cell_type": "code",
   "execution_count": null,
   "metadata": {},
   "outputs": [],
   "source": []
  }
 ],
 "metadata": {
  "kernelspec": {
   "display_name": "Python 3",
   "language": "python",
   "name": "python3"
  },
  "language_info": {
   "codemirror_mode": {
    "name": "ipython",
    "version": 3
   },
   "file_extension": ".py",
   "mimetype": "text/x-python",
   "name": "python",
   "nbconvert_exporter": "python",
   "pygments_lexer": "ipython3",
   "version": "3.6.9-final"
  }
 },
 "nbformat": 4,
 "nbformat_minor": 4
}