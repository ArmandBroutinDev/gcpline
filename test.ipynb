{
 "cells": [
  {
   "cell_type": "code",
   "execution_count": 2,
   "metadata": {},
   "outputs": [],
   "source": [
    "import numpy as np\n",
    "import pandas as pd"
   ]
  },
  {
   "cell_type": "code",
   "execution_count": 80,
   "metadata": {},
   "outputs": [],
   "source": [
    "class DataHandler:\n",
    "    def __init__(self):\n",
    "        print(\"intialisation\")\n",
    "        self.df_lf = None\n",
    "        self.df_pa = None\n",
    "        self.df_res = None\n",
    "        print(\"intialisation done\")\n",
    "    def get_data(self):\n",
    "        print(\"loading data from bucket\")\n",
    "        self.df_lf = pd.read_csv(\"https://storage.googleapis.com/h3-data/listings_final.csv\",sep=';')\n",
    "        self.df_pa = pd.read_csv(\"https://storage.googleapis.com/h3-data/price_availability.csv\",sep=';')\n",
    "        print(\"data loaded from bucket\")\n",
    "\n",
    "    def group_data(self):\n",
    "        print(\"merging data\")\n",
    "        self.df_res = pd.merge(self.df_lf,self.df_pa.groupby('listing_id')['local_price'].mean('local_price'),how='inner', on='listing_id')\n",
    "        print(\"size of the merged data : {} lines, {} columns\".format(self.df_res.shape[0],self.df_res.shape[1]))\n",
    "\n",
    "    def get_process_data(self):\n",
    "        self.get_data()\n",
    "        self.group_data()"
   ]
  },
  {
   "cell_type": "code",
   "execution_count": 81,
   "metadata": {},
   "outputs": [
    {
     "output_type": "stream",
     "name": "stdout",
     "text": [
      "intialisation\nintialisation done\n"
     ]
    }
   ],
   "source": [
    "dt = DataHandler()"
   ]
  },
  {
   "cell_type": "code",
   "execution_count": 82,
   "metadata": {},
   "outputs": [
    {
     "output_type": "stream",
     "name": "stdout",
     "text": [
      "loading data from bucket\n",
      "data loaded from bucket\n",
      "merging data\n",
      "size of the merged data : 999 lines, 20 columns\n"
     ]
    }
   ],
   "source": [
    "dt.get_process_data()"
   ]
  },
  {
   "cell_type": "code",
   "execution_count": null,
   "metadata": {},
   "outputs": [],
   "source": [
    "dt.df_res.head()"
   ]
  },
  {
   "cell_type": "code",
   "execution_count": null,
   "metadata": {},
   "outputs": [],
   "source": []
  },
  {
   "cell_type": "code",
   "execution_count": null,
   "metadata": {},
   "outputs": [],
   "source": []
  },
  {
   "cell_type": "code",
   "execution_count": null,
   "metadata": {},
   "outputs": [],
   "source": []
  }
 ],
 "metadata": {
  "kernelspec": {
   "display_name": "Python 3",
   "language": "python",
   "name": "python3"
  },
  "language_info": {
   "codemirror_mode": {
    "name": "ipython",
    "version": 3
   },
   "file_extension": ".py",
   "mimetype": "text/x-python",
   "name": "python",
   "nbconvert_exporter": "python",
   "pygments_lexer": "ipython3",
   "version": "3.6.9-final"
  }
 },
 "nbformat": 4,
 "nbformat_minor": 4
}