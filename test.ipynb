{
 "cells": [
  {
   "cell_type": "code",
   "execution_count": 126,
   "metadata": {},
   "outputs": [],
   "source": [
    "import numpy as np\n",
    "import pandas as pd"
   ]
  },
  {
   "cell_type": "code",
   "execution_count": 127,
   "metadata": {},
   "outputs": [],
   "source": [
    "class DataHandler:\n",
    "    def __init__(self):\n",
    "        print(\"intialisation\")\n",
    "        self.df_lf = None\n",
    "        self.df_pa = None\n",
    "        self.df_res = None\n",
    "        print(\"intialisation done\")\n",
    "    def get_data(self):\n",
    "        print(\"loading data from bucket\")\n",
    "        self.df_lf = pd.read_csv(\"https://storage.googleapis.com/h3-data/listings_final.csv\",sep=';')\n",
    "        self.df_pa = pd.read_csv(\"https://storage.googleapis.com/h3-data/price_availability.csv\",sep=';')\n",
    "        print(\"data loaded from bucket\")\n",
    "\n",
    "    def group_data(self):\n",
    "        print(\"merging data\")\n",
    "        self.df_res = pd.merge(self.df_lf,self.df_pa.groupby('listing_id')['local_price'].mean('local_price'),how='inner', on='listing_id')\n",
    "        print(\"size of the merged data : {} lines, {} columns\".format(self.df_res.shape[0],self.df_res.shape[1]))\n",
    "\n",
    "    def get_process_data(self):\n",
    "        self.get_data()\n",
    "        self.group_data()"
   ]
  },
  {
   "cell_type": "code",
   "execution_count": 128,
   "metadata": {},
   "outputs": [
    {
     "output_type": "stream",
     "name": "stdout",
     "text": [
      "intialisation\nintialisation done\n"
     ]
    }
   ],
   "source": [
    "dt = DataHandler()"
   ]
  },
  {
   "cell_type": "code",
   "execution_count": 129,
   "metadata": {},
   "outputs": [
    {
     "output_type": "stream",
     "name": "stdout",
     "text": [
      "loading data from bucket\n",
      "data loaded from bucket\n",
      "merging data\n",
      "size of the merged data : 999 lines, 20 columns\n"
     ]
    }
   ],
   "source": [
    "dt.get_process_data()"
   ]
  },
  {
   "cell_type": "code",
   "execution_count": 130,
   "metadata": {},
   "outputs": [
    {
     "output_type": "execute_result",
     "data": {
      "text/plain": [
       "   Unnamed: 0  listing_id                                      name  \\\n",
       "0           0    28581061                           La maison Clery   \n",
       "1           1      661961       studio PARIS PLACE EDITH PIAF 75020   \n",
       "2           2     1261705  chambre privée à louer @ paris oberkampf   \n",
       "3           3     1318834            Appartement au coeur du Marais   \n",
       "4           4     1677091                       Lovely & Quiet flat   \n",
       "\n",
       "           type   city                  neighborhood   latitude  longitude  \\\n",
       "0  private_room  Paris             2e arrondissement  48.869292   2.348335   \n",
       "1   entire_home  Paris                           NaN  48.867284   2.403255   \n",
       "2  private_room  Paris                           NaN  48.867894   2.375897   \n",
       "3   entire_home  Paris                    République  48.870370   2.358510   \n",
       "4   entire_home  Paris  Buttes-Chaumont - Belleville  48.874149   2.373700   \n",
       "\n",
       "   person_capacity  beds  bedrooms  bathrooms  is_rebookable  is_new_listing  \\\n",
       "0                1     1         1        2.0          False            True   \n",
       "1                2     1         1        1.0          False           False   \n",
       "2                1     1         1        1.0          False           False   \n",
       "3                3     2         2        1.0          False           False   \n",
       "4                2     1         1        1.0          False           False   \n",
       "\n",
       "   is_fully_refundable  is_host_highly_rated  is_business_travel_ready  \\\n",
       "0                 True                 False                     False   \n",
       "1                 True                  True                     False   \n",
       "2                 True                  True                     False   \n",
       "3                 True                 False                     False   \n",
       "4                 True                  True                     False   \n",
       "\n",
       "   pricing_weekly_factor  pricing_monthly_factor  local_price  \n",
       "0                   1.00                    1.00    45.948454  \n",
       "1                   0.88                    0.69    44.473684  \n",
       "2                   1.00                    1.00    49.000000  \n",
       "3                   0.82                    0.48   165.000000  \n",
       "4                   0.95                    0.90    69.774436  "
      ],
      "text/html": "<div>\n<style scoped>\n    .dataframe tbody tr th:only-of-type {\n        vertical-align: middle;\n    }\n\n    .dataframe tbody tr th {\n        vertical-align: top;\n    }\n\n    .dataframe thead th {\n        text-align: right;\n    }\n</style>\n<table border=\"1\" class=\"dataframe\">\n  <thead>\n    <tr style=\"text-align: right;\">\n      <th></th>\n      <th>Unnamed: 0</th>\n      <th>listing_id</th>\n      <th>name</th>\n      <th>type</th>\n      <th>city</th>\n      <th>neighborhood</th>\n      <th>latitude</th>\n      <th>longitude</th>\n      <th>person_capacity</th>\n      <th>beds</th>\n      <th>bedrooms</th>\n      <th>bathrooms</th>\n      <th>is_rebookable</th>\n      <th>is_new_listing</th>\n      <th>is_fully_refundable</th>\n      <th>is_host_highly_rated</th>\n      <th>is_business_travel_ready</th>\n      <th>pricing_weekly_factor</th>\n      <th>pricing_monthly_factor</th>\n      <th>local_price</th>\n    </tr>\n  </thead>\n  <tbody>\n    <tr>\n      <th>0</th>\n      <td>0</td>\n      <td>28581061</td>\n      <td>La maison Clery</td>\n      <td>private_room</td>\n      <td>Paris</td>\n      <td>2e arrondissement</td>\n      <td>48.869292</td>\n      <td>2.348335</td>\n      <td>1</td>\n      <td>1</td>\n      <td>1</td>\n      <td>2.0</td>\n      <td>False</td>\n      <td>True</td>\n      <td>True</td>\n      <td>False</td>\n      <td>False</td>\n      <td>1.00</td>\n      <td>1.00</td>\n      <td>45.948454</td>\n    </tr>\n    <tr>\n      <th>1</th>\n      <td>1</td>\n      <td>661961</td>\n      <td>studio PARIS PLACE EDITH PIAF 75020</td>\n      <td>entire_home</td>\n      <td>Paris</td>\n      <td>NaN</td>\n      <td>48.867284</td>\n      <td>2.403255</td>\n      <td>2</td>\n      <td>1</td>\n      <td>1</td>\n      <td>1.0</td>\n      <td>False</td>\n      <td>False</td>\n      <td>True</td>\n      <td>True</td>\n      <td>False</td>\n      <td>0.88</td>\n      <td>0.69</td>\n      <td>44.473684</td>\n    </tr>\n    <tr>\n      <th>2</th>\n      <td>2</td>\n      <td>1261705</td>\n      <td>chambre privée à louer @ paris oberkampf</td>\n      <td>private_room</td>\n      <td>Paris</td>\n      <td>NaN</td>\n      <td>48.867894</td>\n      <td>2.375897</td>\n      <td>1</td>\n      <td>1</td>\n      <td>1</td>\n      <td>1.0</td>\n      <td>False</td>\n      <td>False</td>\n      <td>True</td>\n      <td>True</td>\n      <td>False</td>\n      <td>1.00</td>\n      <td>1.00</td>\n      <td>49.000000</td>\n    </tr>\n    <tr>\n      <th>3</th>\n      <td>3</td>\n      <td>1318834</td>\n      <td>Appartement au coeur du Marais</td>\n      <td>entire_home</td>\n      <td>Paris</td>\n      <td>République</td>\n      <td>48.870370</td>\n      <td>2.358510</td>\n      <td>3</td>\n      <td>2</td>\n      <td>2</td>\n      <td>1.0</td>\n      <td>False</td>\n      <td>False</td>\n      <td>True</td>\n      <td>False</td>\n      <td>False</td>\n      <td>0.82</td>\n      <td>0.48</td>\n      <td>165.000000</td>\n    </tr>\n    <tr>\n      <th>4</th>\n      <td>4</td>\n      <td>1677091</td>\n      <td>Lovely &amp; Quiet flat</td>\n      <td>entire_home</td>\n      <td>Paris</td>\n      <td>Buttes-Chaumont - Belleville</td>\n      <td>48.874149</td>\n      <td>2.373700</td>\n      <td>2</td>\n      <td>1</td>\n      <td>1</td>\n      <td>1.0</td>\n      <td>False</td>\n      <td>False</td>\n      <td>True</td>\n      <td>True</td>\n      <td>False</td>\n      <td>0.95</td>\n      <td>0.90</td>\n      <td>69.774436</td>\n    </tr>\n  </tbody>\n</table>\n</div>"
     },
     "metadata": {},
     "execution_count": 130
    }
   ],
   "source": [
    "dt.df_res.head()"
   ]
  },
  {
   "cell_type": "code",
   "execution_count": 131,
   "metadata": {},
   "outputs": [
    {
     "output_type": "execute_result",
     "data": {
      "text/plain": [
       "Unnamed: 0                    int64\n",
       "listing_id                    int64\n",
       "name                         object\n",
       "type                         object\n",
       "city                         object\n",
       "neighborhood                 object\n",
       "latitude                    float64\n",
       "longitude                   float64\n",
       "person_capacity               int64\n",
       "beds                          int64\n",
       "bedrooms                      int64\n",
       "bathrooms                   float64\n",
       "is_rebookable                  bool\n",
       "is_new_listing                 bool\n",
       "is_fully_refundable            bool\n",
       "is_host_highly_rated           bool\n",
       "is_business_travel_ready       bool\n",
       "pricing_weekly_factor       float64\n",
       "pricing_monthly_factor      float64\n",
       "local_price                 float64\n",
       "dtype: object"
      ]
     },
     "metadata": {},
     "execution_count": 131
    }
   ],
   "source": [
    "dt.df_res.dtypes"
   ]
  },
  {
   "cell_type": "code",
   "execution_count": 132,
   "metadata": {},
   "outputs": [
    {
     "output_type": "execute_result",
     "data": {
      "text/plain": [
       "dtype('int64')"
      ]
     },
     "metadata": {},
     "execution_count": 132
    }
   ],
   "source": [
    "dt.df_res['beds'].dtypes"
   ]
  },
  {
   "cell_type": "code",
   "execution_count": 182,
   "metadata": {},
   "outputs": [],
   "source": [
    "class FeatureRecipe:\n",
    "\n",
    "    def __init__(self,df:pd.DataFrame):\n",
    "        print(\"FeatureRecipe intialisation\")\n",
    "        self.df = df\n",
    "        self.cate = []\n",
    "        self.floa = []\n",
    "        self.intt = []\n",
    "        self.drop = []\n",
    "        print(\"end of intialisation\")\n",
    "\n",
    "    def separate_variable_types(self) -> None:\n",
    "        for col in self.df.columns:\n",
    "            if self.df[col].dtypes == int:\n",
    "                self.intt.append(self.df[col])\n",
    "            elif self.df[col].dtypes == float:\n",
    "                self.floa.append(self.df[col])\n",
    "            else:\n",
    "                self.cate.append(self.df[col])\n",
    "        print (\"dataset column size : {} \\nnumber of discreet values : {} \\nnumber of continuous values : {} \\nnumber of others : {} \\ntaille total : {}\".format(len(self.df.columns),len(self.intt),len(self.floa),len(self.cate),len(self.intt)+len(self.floa)+len(self.cate) ))\n",
    "\n",
    "    def drop_na_prct(self,threshold : float):\n",
    "        \"\"\"\n",
    "            on appelle la commande et on met un threshold entre 1 et 0 en flottant\n",
    "            params: threshold : float\n",
    "        \"\"\"\n",
    "        # par rapport a la colonne\n",
    "        dropped = 0\n",
    "        print(\"dropping columns with {} percentage \".format(threshold))\n",
    "        for col in self.df.columns:\n",
    "            if self.df[col].isna().sum()/self.df.shape[0] >= threshold:\n",
    "                self.dropped.append( self.df.drop([col], axis='columns', inplace=True) )\n",
    "                dropped+=1\n",
    "        print(\"dropped {} columns\".format(dropped))\n",
    "\n",
    "    def drop_useless_features(self):\n",
    "        # droper les col vides et doublons de l'index et les colonnes qu'on va considerer inutile\n",
    "        print(\"dropping useless columns\")\n",
    "        if 'Unnamed: 0' in self.df.columns:\n",
    "            self.df.drop(['Unnamed: 0'], axis='columns', inplace=True)\n",
    "        for col in self.df.columns:\n",
    "            if self.df[col].isna().sum() == len(self.df):\n",
    "                self.df.drop([col], axis='columns', inplace=True)\n",
    "        print(\"done dropping\")\n",
    "\n",
    "    def drop_duplicate(self):\n",
    "        # comparer les colonnes et voir si elles sont dupliquées\n",
    "        for col in self.df:\n",
    "            if col.duplicated().sum()\n",
    "\n",
    "#   def deal_date_time(self):\n",
    "#        pass\n",
    "    def get_process_data(self,threshold : float):\n",
    "        self.separate_variable_types()\n",
    "        self.drop_na_prct(threshold)\n",
    "        self.drop_useless_features()\n",
    "        self.drop_duplicate()\n",
    "        print(\"end of FeatureRecipe processing\")"
   ]
  },
  {
   "cell_type": "code",
   "execution_count": 183,
   "metadata": {},
   "outputs": [
    {
     "output_type": "stream",
     "name": "stdout",
     "text": [
      "FeatureRecipe intialisation\nend of intialisation\n"
     ]
    }
   ],
   "source": [
    "fr = FeatureRecipe(dt.df_res)"
   ]
  },
  {
   "cell_type": "code",
   "execution_count": 184,
   "metadata": {},
   "outputs": [
    {
     "output_type": "stream",
     "name": "stdout",
     "text": [
      "dataset column size : 19 \nnumber of discreet values : 4 \nnumber of continuous values : 6 \nnumber of others : 9 \ntaille total : 19\n"
     ]
    }
   ],
   "source": [
    "fr.separate_variable_types()"
   ]
  },
  {
   "cell_type": "code",
   "execution_count": 186,
   "metadata": {},
   "outputs": [
    {
     "output_type": "execute_result",
     "data": {
      "text/plain": [
       "999"
      ]
     },
     "metadata": {},
     "execution_count": 186
    }
   ],
   "source": [
    "len(fr.df['name'])"
   ]
  },
  {
   "cell_type": "code",
   "execution_count": 179,
   "metadata": {},
   "outputs": [],
   "source": [
    "fr.drop_useless_features()"
   ]
  },
  {
   "cell_type": "code",
   "execution_count": 185,
   "metadata": {},
   "outputs": [
    {
     "output_type": "stream",
     "name": "stdout",
     "text": [
      "dropping columns with 0.3 percentage \ndropping 1 columns\n"
     ]
    }
   ],
   "source": [
    "fr.drop_na_prct(0.3)"
   ]
  },
  {
   "cell_type": "code",
   "execution_count": 204,
   "metadata": {},
   "outputs": [
    {
     "output_type": "stream",
     "name": "stdout",
     "text": [
      "0      False\n1      False\n2      False\n3      False\n4      False\n       ...  \n994    False\n995    False\n996    False\n997    False\n998    False\nLength: 999, dtype: bool\n"
     ]
    }
   ],
   "source": [
    "print(fr.df.duplicated())"
   ]
  },
  {
   "cell_type": "code",
   "execution_count": null,
   "metadata": {},
   "outputs": [],
   "source": []
  },
  {
   "cell_type": "code",
   "execution_count": null,
   "metadata": {},
   "outputs": [],
   "source": []
  },
  {
   "cell_type": "code",
   "execution_count": null,
   "metadata": {},
   "outputs": [],
   "source": []
  },
  {
   "cell_type": "code",
   "execution_count": null,
   "metadata": {},
   "outputs": [],
   "source": []
  },
  {
   "cell_type": "code",
   "execution_count": null,
   "metadata": {},
   "outputs": [],
   "source": []
  }
 ],
 "metadata": {
  "kernelspec": {
   "display_name": "Python 3",
   "language": "python",
   "name": "python3"
  },
  "language_info": {
   "codemirror_mode": {
    "name": "ipython",
    "version": 3
   },
   "file_extension": ".py",
   "mimetype": "text/x-python",
   "name": "python",
   "nbconvert_exporter": "python",
   "pygments_lexer": "ipython3",
   "version": "3.6.9-final"
  }
 },
 "nbformat": 4,
 "nbformat_minor": 4
}