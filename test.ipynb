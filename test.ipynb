{
 "cells": [
  {
   "cell_type": "code",
   "execution_count": 309,
   "metadata": {},
   "outputs": [],
   "source": [
    "import numpy as np\n",
    "import pandas as pd"
   ]
  },
  {
   "cell_type": "code",
   "execution_count": 310,
   "metadata": {},
   "outputs": [],
   "source": [
    "class DataHandler:\n",
    "    def __init__(self):\n",
    "        print(\"intialisation\")\n",
    "        self.df_lf = None\n",
    "        self.df_pa = None\n",
    "        self.df_res = None\n",
    "        print(\"intialisation done\")\n",
    "    def get_data(self):\n",
    "        print(\"loading data from bucket\")\n",
    "        self.df_lf = pd.read_csv(\"https://storage.googleapis.com/h3-data/listings_final.csv\",sep=';')\n",
    "        self.df_pa = pd.read_csv(\"https://storage.googleapis.com/h3-data/price_availability.csv\",sep=';')\n",
    "        print(\"data loaded from bucket\")\n",
    "\n",
    "    def group_data(self):\n",
    "        print(\"merging data\")\n",
    "        self.df_res = pd.merge(self.df_lf,self.df_pa.groupby('listing_id')['local_price'].mean('local_price'),how='inner', on='listing_id')\n",
    "        print(\"size of the merged data : {} lines, {} columns\".format(self.df_res.shape[0],self.df_res.shape[1]))\n",
    "\n",
    "    def get_process_data(self):\n",
    "        self.get_data()\n",
    "        self.group_data()"
   ]
  },
  {
   "cell_type": "code",
   "execution_count": 311,
   "metadata": {},
   "outputs": [
    {
     "output_type": "stream",
     "name": "stdout",
     "text": [
      "intialisation\nintialisation done\n"
     ]
    }
   ],
   "source": [
    "dt = DataHandler()"
   ]
  },
  {
   "cell_type": "code",
   "execution_count": 312,
   "metadata": {},
   "outputs": [
    {
     "output_type": "stream",
     "name": "stdout",
     "text": [
      "loading data from bucket\n",
      "data loaded from bucket\n",
      "merging data\n",
      "size of the merged data : 999 lines, 20 columns\n"
     ]
    }
   ],
   "source": [
    "dt.get_process_data()"
   ]
  },
  {
   "cell_type": "code",
   "execution_count": 317,
   "metadata": {},
   "outputs": [],
   "source": [
    "class FeatureRecipe:\n",
    "\n",
    "    def __init__(self,df:pd.DataFrame):\n",
    "        print(\"FeatureRecipe intialisation\")\n",
    "        self.df = df\n",
    "        self.cate = []\n",
    "        self.floa = []\n",
    "        self.intt = []\n",
    "        self.drop = []\n",
    "        print(\"end of intialisation\\n\")\n",
    "\n",
    "    def separate_variable_types(self) -> None:\n",
    "        print(\"separating columns\")\n",
    "        for col in self.df.columns:\n",
    "            if self.df[col].dtypes == int:\n",
    "                self.intt.append(self.df[col])\n",
    "            elif self.df[col].dtypes == float:\n",
    "                self.floa.append(self.df[col])\n",
    "            else:\n",
    "                self.cate.append(self.df[col])\n",
    "        print (\"dataset column size : {} \\nnumber of discreet values : {} \\nnumber of continuous values : {} \\nnumber of others : {} \\ntaille total : {}\".format(len(self.df.columns),len(self.intt),len(self.floa),len(self.cate),len(self.intt)+len(self.floa)+len(self.cate) ))\n",
    "\n",
    "    def drop_na_prct(self,threshold : float):\n",
    "        \"\"\"\n",
    "            on appelle la commande et on met un threshold entre 1 et 0 en flottant\n",
    "            params: threshold : float\n",
    "        \"\"\"\n",
    "        # par rapport a la colonne\n",
    "        dropped = 0\n",
    "        print(\"dropping columns with {} percentage \".format(threshold))\n",
    "        for col in self.df.columns:\n",
    "            if self.df[col].isna().sum()/self.df.shape[0] >= threshold:\n",
    "                self.drop.append( self.df.drop([col], axis='columns', inplace=True) )\n",
    "                dropped+=1\n",
    "        print(\"dropped {} columns\".format(dropped))\n",
    "\n",
    "    def drop_useless_features(self):\n",
    "        # droper les col vides et doublons de l'index et les colonnes qu'on va considerer inutile\n",
    "        print(\"dropping useless columns\")\n",
    "        dropped = 0\n",
    "        if 'Unnamed: 0' in self.df.columns:\n",
    "            self.df.drop(['Unnamed: 0'], axis='columns', inplace=True)\n",
    "            dropped+=1\n",
    "        for col in self.df.columns:\n",
    "            if self.df[col].isna().sum() == len(self.df):\n",
    "                self.df.drop([col], axis='columns', inplace=True)\n",
    "                dropped+=1\n",
    "        print(\"done dropping {} column(s)\".format(dropped))\n",
    "\n",
    "\n",
    "    def drop_duplicate(self):\n",
    "        # comparer les colonnes et voir si elles sont dupliquées\n",
    "        print(\"dropping duplicated rows\")\n",
    "        self.df.drop_duplicates(inplace=True)\n",
    "        duplicates = self.get_duplicates()\n",
    "        for col in duplicates:\n",
    "            self.df.drop(col)\n",
    "        print(\"duplicated rows dropped\")\n",
    "\n",
    "    def get_duplicates(self):\n",
    "        duplicates = []\n",
    "        #for col in self.df.columns:\n",
    "            #for scol in self.df.columns:\n",
    "        for col in range(self.df.shape[1]-1):\n",
    "            for scol in range(col+1,self.df.shape[1]-1):\n",
    "                print(\"{} {}\".format(col,scol))\n",
    "                if sum( np.where(self.df.iloc[:,[col]] == self.df.iloc[:,[scol]],0,1) ) == 0:\n",
    "                    duplicates.append(scol)\n",
    "        return duplicates\n",
    "\n",
    "#   def deal_date_time(self):\n",
    "#        pass\n",
    "    def get_process_data(self,threshold : float):\n",
    "        self.drop_useless_features()\n",
    "        self.drop_na_prct(threshold)\n",
    "        self.drop_duplicate()\n",
    "        self.separate_variable_types()\n",
    "        print(\"end of FeatureRecipe processing\")"
   ]
  },
  {
   "cell_type": "code",
   "execution_count": 318,
   "metadata": {},
   "outputs": [
    {
     "output_type": "stream",
     "name": "stdout",
     "text": [
      "FeatureRecipe intialisation\nend of intialisation\n\ndropping useless columns\ndone dropping 0 column(s)\ndropping columns with 0.3 percentage \ndropped 0 columns\ndropping duplicated rows\n0 1\n"
     ]
    },
    {
     "output_type": "error",
     "ename": "ValueError",
     "evalue": "Can only compare identically-labeled DataFrame objects",
     "traceback": [
      "\u001b[0;31m---------------------------------------------------------------------------\u001b[0m",
      "\u001b[0;31mValueError\u001b[0m                                Traceback (most recent call last)",
      "\u001b[0;32m<ipython-input-318-8d542b87e6ff>\u001b[0m in \u001b[0;36m<module>\u001b[0;34m\u001b[0m\n\u001b[1;32m      1\u001b[0m \u001b[0mfr\u001b[0m \u001b[0;34m=\u001b[0m \u001b[0mFeatureRecipe\u001b[0m\u001b[0;34m(\u001b[0m\u001b[0mdt\u001b[0m\u001b[0;34m.\u001b[0m\u001b[0mdf_res\u001b[0m\u001b[0;34m)\u001b[0m\u001b[0;34m\u001b[0m\u001b[0;34m\u001b[0m\u001b[0m\n\u001b[0;32m----> 2\u001b[0;31m \u001b[0mfr\u001b[0m\u001b[0;34m.\u001b[0m\u001b[0mget_process_data\u001b[0m\u001b[0;34m(\u001b[0m\u001b[0;36m0.3\u001b[0m\u001b[0;34m)\u001b[0m\u001b[0;34m\u001b[0m\u001b[0;34m\u001b[0m\u001b[0m\n\u001b[0m",
      "\u001b[0;32m<ipython-input-317-c6d7f3a185f9>\u001b[0m in \u001b[0;36mget_process_data\u001b[0;34m(self, threshold)\u001b[0m\n\u001b[1;32m     74\u001b[0m         \u001b[0mself\u001b[0m\u001b[0;34m.\u001b[0m\u001b[0mdrop_useless_features\u001b[0m\u001b[0;34m(\u001b[0m\u001b[0;34m)\u001b[0m\u001b[0;34m\u001b[0m\u001b[0;34m\u001b[0m\u001b[0m\n\u001b[1;32m     75\u001b[0m         \u001b[0mself\u001b[0m\u001b[0;34m.\u001b[0m\u001b[0mdrop_na_prct\u001b[0m\u001b[0;34m(\u001b[0m\u001b[0mthreshold\u001b[0m\u001b[0;34m)\u001b[0m\u001b[0;34m\u001b[0m\u001b[0;34m\u001b[0m\u001b[0m\n\u001b[0;32m---> 76\u001b[0;31m         \u001b[0mself\u001b[0m\u001b[0;34m.\u001b[0m\u001b[0mdrop_duplicate\u001b[0m\u001b[0;34m(\u001b[0m\u001b[0;34m)\u001b[0m\u001b[0;34m\u001b[0m\u001b[0;34m\u001b[0m\u001b[0m\n\u001b[0m\u001b[1;32m     77\u001b[0m         \u001b[0mself\u001b[0m\u001b[0;34m.\u001b[0m\u001b[0mseparate_variable_types\u001b[0m\u001b[0;34m(\u001b[0m\u001b[0;34m)\u001b[0m\u001b[0;34m\u001b[0m\u001b[0;34m\u001b[0m\u001b[0m\n\u001b[1;32m     78\u001b[0m         \u001b[0mprint\u001b[0m\u001b[0;34m(\u001b[0m\u001b[0;34m\"end of FeatureRecipe processing\"\u001b[0m\u001b[0;34m)\u001b[0m\u001b[0;34m\u001b[0m\u001b[0;34m\u001b[0m\u001b[0m\n",
      "\u001b[0;32m<ipython-input-317-c6d7f3a185f9>\u001b[0m in \u001b[0;36mdrop_duplicate\u001b[0;34m(self)\u001b[0m\n\u001b[1;32m     53\u001b[0m         \u001b[0mprint\u001b[0m\u001b[0;34m(\u001b[0m\u001b[0;34m\"dropping duplicated rows\"\u001b[0m\u001b[0;34m)\u001b[0m\u001b[0;34m\u001b[0m\u001b[0;34m\u001b[0m\u001b[0m\n\u001b[1;32m     54\u001b[0m         \u001b[0mself\u001b[0m\u001b[0;34m.\u001b[0m\u001b[0mdf\u001b[0m\u001b[0;34m.\u001b[0m\u001b[0mdrop_duplicates\u001b[0m\u001b[0;34m(\u001b[0m\u001b[0minplace\u001b[0m\u001b[0;34m=\u001b[0m\u001b[0;32mTrue\u001b[0m\u001b[0;34m)\u001b[0m\u001b[0;34m\u001b[0m\u001b[0;34m\u001b[0m\u001b[0m\n\u001b[0;32m---> 55\u001b[0;31m         \u001b[0mduplicates\u001b[0m \u001b[0;34m=\u001b[0m \u001b[0mself\u001b[0m\u001b[0;34m.\u001b[0m\u001b[0mget_duplicates\u001b[0m\u001b[0;34m(\u001b[0m\u001b[0;34m)\u001b[0m\u001b[0;34m\u001b[0m\u001b[0;34m\u001b[0m\u001b[0m\n\u001b[0m\u001b[1;32m     56\u001b[0m         \u001b[0;32mfor\u001b[0m \u001b[0mcol\u001b[0m \u001b[0;32min\u001b[0m \u001b[0mduplicates\u001b[0m\u001b[0;34m:\u001b[0m\u001b[0;34m\u001b[0m\u001b[0;34m\u001b[0m\u001b[0m\n\u001b[1;32m     57\u001b[0m             \u001b[0mself\u001b[0m\u001b[0;34m.\u001b[0m\u001b[0mdf\u001b[0m\u001b[0;34m.\u001b[0m\u001b[0mdrop\u001b[0m\u001b[0;34m(\u001b[0m\u001b[0mcol\u001b[0m\u001b[0;34m)\u001b[0m\u001b[0;34m\u001b[0m\u001b[0;34m\u001b[0m\u001b[0m\n",
      "\u001b[0;32m<ipython-input-317-c6d7f3a185f9>\u001b[0m in \u001b[0;36mget_duplicates\u001b[0;34m(self)\u001b[0m\n\u001b[1;32m     65\u001b[0m             \u001b[0;32mfor\u001b[0m \u001b[0mscol\u001b[0m \u001b[0;32min\u001b[0m \u001b[0mrange\u001b[0m\u001b[0;34m(\u001b[0m\u001b[0mcol\u001b[0m\u001b[0;34m+\u001b[0m\u001b[0;36m1\u001b[0m\u001b[0;34m,\u001b[0m\u001b[0mself\u001b[0m\u001b[0;34m.\u001b[0m\u001b[0mdf\u001b[0m\u001b[0;34m.\u001b[0m\u001b[0mshape\u001b[0m\u001b[0;34m[\u001b[0m\u001b[0;36m1\u001b[0m\u001b[0;34m]\u001b[0m\u001b[0;34m-\u001b[0m\u001b[0;36m1\u001b[0m\u001b[0;34m)\u001b[0m\u001b[0;34m:\u001b[0m\u001b[0;34m\u001b[0m\u001b[0;34m\u001b[0m\u001b[0m\n\u001b[1;32m     66\u001b[0m                 \u001b[0mprint\u001b[0m\u001b[0;34m(\u001b[0m\u001b[0;34m\"{} {}\"\u001b[0m\u001b[0;34m.\u001b[0m\u001b[0mformat\u001b[0m\u001b[0;34m(\u001b[0m\u001b[0mcol\u001b[0m\u001b[0;34m,\u001b[0m\u001b[0mscol\u001b[0m\u001b[0;34m)\u001b[0m\u001b[0;34m)\u001b[0m\u001b[0;34m\u001b[0m\u001b[0;34m\u001b[0m\u001b[0m\n\u001b[0;32m---> 67\u001b[0;31m                 \u001b[0;32mif\u001b[0m \u001b[0msum\u001b[0m\u001b[0;34m(\u001b[0m \u001b[0mnp\u001b[0m\u001b[0;34m.\u001b[0m\u001b[0mwhere\u001b[0m\u001b[0;34m(\u001b[0m\u001b[0mself\u001b[0m\u001b[0;34m.\u001b[0m\u001b[0mdf\u001b[0m\u001b[0;34m.\u001b[0m\u001b[0miloc\u001b[0m\u001b[0;34m[\u001b[0m\u001b[0;34m:\u001b[0m\u001b[0;34m,\u001b[0m\u001b[0;34m[\u001b[0m\u001b[0mcol\u001b[0m\u001b[0;34m]\u001b[0m\u001b[0;34m]\u001b[0m \u001b[0;34m==\u001b[0m \u001b[0mself\u001b[0m\u001b[0;34m.\u001b[0m\u001b[0mdf\u001b[0m\u001b[0;34m.\u001b[0m\u001b[0miloc\u001b[0m\u001b[0;34m[\u001b[0m\u001b[0;34m:\u001b[0m\u001b[0;34m,\u001b[0m\u001b[0;34m[\u001b[0m\u001b[0mscol\u001b[0m\u001b[0;34m]\u001b[0m\u001b[0;34m]\u001b[0m\u001b[0;34m,\u001b[0m\u001b[0;36m0\u001b[0m\u001b[0;34m,\u001b[0m\u001b[0;36m1\u001b[0m\u001b[0;34m)\u001b[0m \u001b[0;34m)\u001b[0m \u001b[0;34m==\u001b[0m \u001b[0;36m0\u001b[0m\u001b[0;34m:\u001b[0m\u001b[0;34m\u001b[0m\u001b[0;34m\u001b[0m\u001b[0m\n\u001b[0m\u001b[1;32m     68\u001b[0m                     \u001b[0mduplicates\u001b[0m\u001b[0;34m.\u001b[0m\u001b[0mappend\u001b[0m\u001b[0;34m(\u001b[0m\u001b[0mscol\u001b[0m\u001b[0;34m)\u001b[0m\u001b[0;34m\u001b[0m\u001b[0;34m\u001b[0m\u001b[0m\n\u001b[1;32m     69\u001b[0m         \u001b[0;32mreturn\u001b[0m \u001b[0mduplicates\u001b[0m\u001b[0;34m\u001b[0m\u001b[0;34m\u001b[0m\u001b[0m\n",
      "\u001b[0;32m~/.local/lib/python3.6/site-packages/pandas/core/ops/__init__.py\u001b[0m in \u001b[0;36mf\u001b[0;34m(self, other)\u001b[0m\n\u001b[1;32m    699\u001b[0m         \u001b[0maxis\u001b[0m \u001b[0;34m=\u001b[0m \u001b[0;36m1\u001b[0m  \u001b[0;31m# only relevant for Series other case\u001b[0m\u001b[0;34m\u001b[0m\u001b[0;34m\u001b[0m\u001b[0m\n\u001b[1;32m    700\u001b[0m \u001b[0;34m\u001b[0m\u001b[0m\n\u001b[0;32m--> 701\u001b[0;31m         \u001b[0mself\u001b[0m\u001b[0;34m,\u001b[0m \u001b[0mother\u001b[0m \u001b[0;34m=\u001b[0m \u001b[0m_align_method_FRAME\u001b[0m\u001b[0;34m(\u001b[0m\u001b[0mself\u001b[0m\u001b[0;34m,\u001b[0m \u001b[0mother\u001b[0m\u001b[0;34m,\u001b[0m \u001b[0maxis\u001b[0m\u001b[0;34m,\u001b[0m \u001b[0mlevel\u001b[0m\u001b[0;34m=\u001b[0m\u001b[0;32mNone\u001b[0m\u001b[0;34m,\u001b[0m \u001b[0mflex\u001b[0m\u001b[0;34m=\u001b[0m\u001b[0;32mFalse\u001b[0m\u001b[0;34m)\u001b[0m\u001b[0;34m\u001b[0m\u001b[0;34m\u001b[0m\u001b[0m\n\u001b[0m\u001b[1;32m    702\u001b[0m \u001b[0;34m\u001b[0m\u001b[0m\n\u001b[1;32m    703\u001b[0m         \u001b[0;31m# See GH#4537 for discussion of scalar op behavior\u001b[0m\u001b[0;34m\u001b[0m\u001b[0;34m\u001b[0m\u001b[0;34m\u001b[0m\u001b[0m\n",
      "\u001b[0;32m~/.local/lib/python3.6/site-packages/pandas/core/ops/__init__.py\u001b[0m in \u001b[0;36m_align_method_FRAME\u001b[0;34m(left, right, axis, flex, level)\u001b[0m\n\u001b[1;32m    509\u001b[0m             \u001b[0;32melse\u001b[0m\u001b[0;34m:\u001b[0m\u001b[0;34m\u001b[0m\u001b[0;34m\u001b[0m\u001b[0m\n\u001b[1;32m    510\u001b[0m                 raise ValueError(\n\u001b[0;32m--> 511\u001b[0;31m                     \u001b[0;34m\"Can only compare identically-labeled DataFrame objects\"\u001b[0m\u001b[0;34m\u001b[0m\u001b[0;34m\u001b[0m\u001b[0m\n\u001b[0m\u001b[1;32m    512\u001b[0m                 )\n\u001b[1;32m    513\u001b[0m     \u001b[0;32melif\u001b[0m \u001b[0misinstance\u001b[0m\u001b[0;34m(\u001b[0m\u001b[0mright\u001b[0m\u001b[0;34m,\u001b[0m \u001b[0mABCSeries\u001b[0m\u001b[0;34m)\u001b[0m\u001b[0;34m:\u001b[0m\u001b[0;34m\u001b[0m\u001b[0;34m\u001b[0m\u001b[0m\n",
      "\u001b[0;31mValueError\u001b[0m: Can only compare identically-labeled DataFrame objects"
     ]
    }
   ],
   "source": [
    "fr = FeatureRecipe(dt.df_res)\n",
    "fr.get_process_data(0.3)"
   ]
  },
  {
   "cell_type": "code",
   "execution_count": 277,
   "metadata": {},
   "outputs": [
    {
     "output_type": "execute_result",
     "data": {
      "text/plain": [
       "   listing_id                                      name          type   city  \\\n",
       "0    28581061                           La maison Clery  private_room  Paris   \n",
       "1      661961       studio PARIS PLACE EDITH PIAF 75020   entire_home  Paris   \n",
       "2     1261705  chambre privée à louer @ paris oberkampf  private_room  Paris   \n",
       "3     1318834            Appartement au coeur du Marais   entire_home  Paris   \n",
       "4     1677091                       Lovely & Quiet flat   entire_home  Paris   \n",
       "\n",
       "                   neighborhood   latitude  longitude  person_capacity  beds  \\\n",
       "0             2e arrondissement  48.869292   2.348335                1     1   \n",
       "1                           NaN  48.867284   2.403255                2     1   \n",
       "2                           NaN  48.867894   2.375897                1     1   \n",
       "3                    République  48.870370   2.358510                3     2   \n",
       "4  Buttes-Chaumont - Belleville  48.874149   2.373700                2     1   \n",
       "\n",
       "   bedrooms  bathrooms  is_rebookable  is_new_listing  is_fully_refundable  \\\n",
       "0         1        2.0          False            True                 True   \n",
       "1         1        1.0          False           False                 True   \n",
       "2         1        1.0          False           False                 True   \n",
       "3         2        1.0          False           False                 True   \n",
       "4         1        1.0          False           False                 True   \n",
       "\n",
       "   is_host_highly_rated  is_business_travel_ready  pricing_weekly_factor  \\\n",
       "0                 False                     False                   1.00   \n",
       "1                  True                     False                   0.88   \n",
       "2                  True                     False                   1.00   \n",
       "3                 False                     False                   0.82   \n",
       "4                  True                     False                   0.95   \n",
       "\n",
       "   pricing_monthly_factor  local_price  \n",
       "0                    1.00    45.948454  \n",
       "1                    0.69    44.473684  \n",
       "2                    1.00    49.000000  \n",
       "3                    0.48   165.000000  \n",
       "4                    0.90    69.774436  "
      ],
      "text/html": "<div>\n<style scoped>\n    .dataframe tbody tr th:only-of-type {\n        vertical-align: middle;\n    }\n\n    .dataframe tbody tr th {\n        vertical-align: top;\n    }\n\n    .dataframe thead th {\n        text-align: right;\n    }\n</style>\n<table border=\"1\" class=\"dataframe\">\n  <thead>\n    <tr style=\"text-align: right;\">\n      <th></th>\n      <th>listing_id</th>\n      <th>name</th>\n      <th>type</th>\n      <th>city</th>\n      <th>neighborhood</th>\n      <th>latitude</th>\n      <th>longitude</th>\n      <th>person_capacity</th>\n      <th>beds</th>\n      <th>bedrooms</th>\n      <th>bathrooms</th>\n      <th>is_rebookable</th>\n      <th>is_new_listing</th>\n      <th>is_fully_refundable</th>\n      <th>is_host_highly_rated</th>\n      <th>is_business_travel_ready</th>\n      <th>pricing_weekly_factor</th>\n      <th>pricing_monthly_factor</th>\n      <th>local_price</th>\n    </tr>\n  </thead>\n  <tbody>\n    <tr>\n      <th>0</th>\n      <td>28581061</td>\n      <td>La maison Clery</td>\n      <td>private_room</td>\n      <td>Paris</td>\n      <td>2e arrondissement</td>\n      <td>48.869292</td>\n      <td>2.348335</td>\n      <td>1</td>\n      <td>1</td>\n      <td>1</td>\n      <td>2.0</td>\n      <td>False</td>\n      <td>True</td>\n      <td>True</td>\n      <td>False</td>\n      <td>False</td>\n      <td>1.00</td>\n      <td>1.00</td>\n      <td>45.948454</td>\n    </tr>\n    <tr>\n      <th>1</th>\n      <td>661961</td>\n      <td>studio PARIS PLACE EDITH PIAF 75020</td>\n      <td>entire_home</td>\n      <td>Paris</td>\n      <td>NaN</td>\n      <td>48.867284</td>\n      <td>2.403255</td>\n      <td>2</td>\n      <td>1</td>\n      <td>1</td>\n      <td>1.0</td>\n      <td>False</td>\n      <td>False</td>\n      <td>True</td>\n      <td>True</td>\n      <td>False</td>\n      <td>0.88</td>\n      <td>0.69</td>\n      <td>44.473684</td>\n    </tr>\n    <tr>\n      <th>2</th>\n      <td>1261705</td>\n      <td>chambre privée à louer @ paris oberkampf</td>\n      <td>private_room</td>\n      <td>Paris</td>\n      <td>NaN</td>\n      <td>48.867894</td>\n      <td>2.375897</td>\n      <td>1</td>\n      <td>1</td>\n      <td>1</td>\n      <td>1.0</td>\n      <td>False</td>\n      <td>False</td>\n      <td>True</td>\n      <td>True</td>\n      <td>False</td>\n      <td>1.00</td>\n      <td>1.00</td>\n      <td>49.000000</td>\n    </tr>\n    <tr>\n      <th>3</th>\n      <td>1318834</td>\n      <td>Appartement au coeur du Marais</td>\n      <td>entire_home</td>\n      <td>Paris</td>\n      <td>République</td>\n      <td>48.870370</td>\n      <td>2.358510</td>\n      <td>3</td>\n      <td>2</td>\n      <td>2</td>\n      <td>1.0</td>\n      <td>False</td>\n      <td>False</td>\n      <td>True</td>\n      <td>False</td>\n      <td>False</td>\n      <td>0.82</td>\n      <td>0.48</td>\n      <td>165.000000</td>\n    </tr>\n    <tr>\n      <th>4</th>\n      <td>1677091</td>\n      <td>Lovely &amp; Quiet flat</td>\n      <td>entire_home</td>\n      <td>Paris</td>\n      <td>Buttes-Chaumont - Belleville</td>\n      <td>48.874149</td>\n      <td>2.373700</td>\n      <td>2</td>\n      <td>1</td>\n      <td>1</td>\n      <td>1.0</td>\n      <td>False</td>\n      <td>False</td>\n      <td>True</td>\n      <td>True</td>\n      <td>False</td>\n      <td>0.95</td>\n      <td>0.90</td>\n      <td>69.774436</td>\n    </tr>\n  </tbody>\n</table>\n</div>"
     },
     "metadata": {},
     "execution_count": 277
    }
   ],
   "source": [
    "fr.df.head()"
   ]
  },
  {
   "cell_type": "code",
   "execution_count": 298,
   "metadata": {},
   "outputs": [
    {
     "output_type": "execute_result",
     "data": {
      "text/plain": [
       "     listing_id\n",
       "0      28581061\n",
       "1        661961\n",
       "2       1261705\n",
       "3       1318834\n",
       "4       1677091\n",
       "..          ...\n",
       "994    28335197\n",
       "995    28583013\n",
       "996    28628316\n",
       "997    28792796\n",
       "998    28682896\n",
       "\n",
       "[999 rows x 1 columns]"
      ],
      "text/html": "<div>\n<style scoped>\n    .dataframe tbody tr th:only-of-type {\n        vertical-align: middle;\n    }\n\n    .dataframe tbody tr th {\n        vertical-align: top;\n    }\n\n    .dataframe thead th {\n        text-align: right;\n    }\n</style>\n<table border=\"1\" class=\"dataframe\">\n  <thead>\n    <tr style=\"text-align: right;\">\n      <th></th>\n      <th>listing_id</th>\n    </tr>\n  </thead>\n  <tbody>\n    <tr>\n      <th>0</th>\n      <td>28581061</td>\n    </tr>\n    <tr>\n      <th>1</th>\n      <td>661961</td>\n    </tr>\n    <tr>\n      <th>2</th>\n      <td>1261705</td>\n    </tr>\n    <tr>\n      <th>3</th>\n      <td>1318834</td>\n    </tr>\n    <tr>\n      <th>4</th>\n      <td>1677091</td>\n    </tr>\n    <tr>\n      <th>...</th>\n      <td>...</td>\n    </tr>\n    <tr>\n      <th>994</th>\n      <td>28335197</td>\n    </tr>\n    <tr>\n      <th>995</th>\n      <td>28583013</td>\n    </tr>\n    <tr>\n      <th>996</th>\n      <td>28628316</td>\n    </tr>\n    <tr>\n      <th>997</th>\n      <td>28792796</td>\n    </tr>\n    <tr>\n      <th>998</th>\n      <td>28682896</td>\n    </tr>\n  </tbody>\n</table>\n<p>999 rows × 1 columns</p>\n</div>"
     },
     "metadata": {},
     "execution_count": 298
    }
   ],
   "source": [
    "fr.df.iloc[:,[0]]"
   ]
  },
  {
   "cell_type": "code",
   "execution_count": null,
   "metadata": {},
   "outputs": [],
   "source": []
  }
 ],
 "metadata": {
  "kernelspec": {
   "display_name": "Python 3",
   "language": "python",
   "name": "python3"
  },
  "language_info": {
   "codemirror_mode": {
    "name": "ipython",
    "version": 3
   },
   "file_extension": ".py",
   "mimetype": "text/x-python",
   "name": "python",
   "nbconvert_exporter": "python",
   "pygments_lexer": "ipython3",
   "version": "3.6.9-final"
  }
 },
 "nbformat": 4,
 "nbformat_minor": 4
}